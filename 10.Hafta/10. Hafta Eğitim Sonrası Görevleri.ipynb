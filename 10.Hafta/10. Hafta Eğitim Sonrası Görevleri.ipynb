{
 "cells": [
  {
   "attachments": {},
   "cell_type": "markdown",
   "metadata": {},
   "source": [
    "# Problem 1 "
   ]
  },
  {
   "cell_type": "code",
   "execution_count": 2,
   "metadata": {},
   "outputs": [
    {
     "name": "stdout",
     "output_type": "stream",
     "text": [
      "Oluşturulan Array: [34 69  0 77 83]\n",
      "Sıralanmış Array: [ 0 34 69 77 83]\n"
     ]
    }
   ],
   "source": [
    "# 1 - numpy kütüphanesini import edin\n",
    "import numpy as np\n",
    "\n",
    "# 2 - 5 elemanlı bir numpy array oluşturun\n",
    "# 5 elemanlı bir numpy array oluşturun\n",
    "array = np.random.randint(0, 100, size=5)\n",
    "print(\"Oluşturulan Array:\", array)\n",
    "\n",
    "# 3 - Oluşturduğunuz arrayi küçükten büyüğe sıralayın.\n",
    "sorted_array = np.sort(array)\n",
    "print(\"Sıralanmış Array:\", sorted_array)\n"
   ]
  },
  {
   "attachments": {},
   "cell_type": "markdown",
   "metadata": {},
   "source": [
    "# Problem 2"
   ]
  },
  {
   "cell_type": "code",
   "execution_count": 4,
   "metadata": {},
   "outputs": [
    {
     "ename": "IndentationError",
     "evalue": "unexpected indent (3639436135.py, line 9)",
     "output_type": "error",
     "traceback": [
      "\u001b[1;36m  Cell \u001b[1;32mIn[4], line 9\u001b[1;36m\u001b[0m\n\u001b[1;33m    array2 = np.arange (5, 16)\u001b[0m\n\u001b[1;37m    ^\u001b[0m\n\u001b[1;31mIndentationError\u001b[0m\u001b[1;31m:\u001b[0m unexpected indent\n"
     ]
    }
   ],
   "source": [
    "# 1- (10,15,30,45,60) değerlerine sahip numpy dizisi oluşturunuz.\n",
    "import numpy as np\n",
    "\n",
    "array1 = np.array([10, 15, 30, 45, 60])\n",
    "print(\"1. NumPy Dizisi:\", array1)\n",
    "\n",
    "\n",
    "# 2- (5-15) arasındaki sayılarla numpy dizisi oluşturunuz.\n",
    " array2 = np.arange (5, 16)\n",
    "print(\"2. NumPy Dizisi:\", array2)\n",
    "\n",
    "# 3- (50-100) arasında 5'er 5'er artarak numpy dizisi oluşturunuz.\n",
    "array3 = np.arange(50, 101, 5)\n",
    "print(\"3. NumPy Dizisi:\", array3)\n",
    "\n",
    "\n",
    "# 4- 10 elemanlı sıfırlardan oluşan bir dizi oluşturunuz.\n",
    "array4 = np.zeros(10)\n",
    "print(\"4. NumPy Dizisi:\", array4)\n",
    "\n",
    "\n",
    "# 5- 10 elemanlı birlerden oluşan bir dizi oluşturunuz.\n",
    "array5 = np.ones(10)\n",
    "print(\"5. NumPy Dizisi:\", array5)\n",
    "\n",
    "\n",
    "# 6- (0-100) arasında eşit aralıklı 5 sayı üretin.\n",
    "array6 = np.linspace(0, 100, 5)\n",
    "print(\"6. NumPy Dizisi:\", array6)\n",
    "\n",
    "\n",
    "# 7- (10-30) arasında rastgele 5 tane tamsayı üretin.\n",
    "array7 = np.random.randint(10, 31, 5)\n",
    "print(\"7. NumPy Dizisi:\", array7)\n",
    "\n",
    "\n",
    "# 8- [-1 ile 1] arasında 10 adet sayı üretin.\n",
    "array8 = np.linspace(-1, 1, 10)\n",
    "print(\"8. NumPy Dizisi:\", array8)\n",
    "\n",
    "\n",
    "# 9- (3x5) boyutlarında (10-50) arasında rastgele bir matris oluşturunuz.\n",
    "matrix9 = np.random.randint(10, 51, size=(3, 5))\n",
    "print(\"9. Rastgele Matris:\\n\", matrix9)\n",
    "\n",
    "\n",
    "# 10- Üretilen matrisin satır ve sütun sayıları toplamlarını hesaplayınız ?\n",
    "row_sum = matrix9.sum(axis=1)\n",
    "col_sum = matrix9.sum(axis=0)\n",
    "print(\"10. Satır Toplamları:\", row_sum)\n",
    "print(\"10. Sütun Toplamları:\", col_sum)\n",
    "\n",
    "\n",
    "# 11- Üretilen matrisin en büyük, en küçük ve ortalaması nedir ?\n",
    "max_value = matrix9.max()\n",
    "min_value = matrix9.min()\n",
    "mean_value = matrix9.mean()\n",
    "print(\"11. En Büyük Değer:\", max_value)\n",
    "print(\"11. En Küçük Değer:\", min_value)\n",
    "print(\"11. Ortalama Değer:\", mean_value)\n",
    "\n",
    "\n",
    "# 12- Üretilen matrisin en büyük değerinin indeksi kaçtır ?\n",
    "max_index = np.unravel_index(matrix9.argmax(), matrix9.shape)\n",
    "print(\"12. En Büyük Değerin İndeksi:\", max_index)\n",
    "\n",
    "\n",
    "# 13- (10-20) arasındaki sayıları içeren dizinin ilk 3 elemanını seçiniz.\n",
    "array13 = np.arange(10, 21)\n",
    "first_three = array13[:3]\n",
    "print(\"13. İlk 3 Eleman:\", first_three)\n",
    "\n",
    "\n",
    "# 14- Üretilen dizinin elemanlarını tersten yazdırın.\n",
    "reversed_array13 = array13[::-1]\n",
    "print(\"14. Tersten Dizi:\", reversed_array13)\n",
    "\n",
    "\n",
    "# 15- Üretilen matrisin ilk satırını seçiniz.\n",
    "first_row = matrix9[0, :]\n",
    "print(\"15. İlk Satır:\", first_row)\n",
    "\n",
    "\n",
    "# 16- Üretilen matrisin 2.satır 3.sütundaki elemanı hangisidir ?\n",
    "element_2_3 = matrix9[1, 2]\n",
    "print(\"16. 2. Satır, 3. Sütundaki Eleman:\", element_2_3)\n",
    "\n",
    "\n",
    "# 17- Üretilen matrisin tüm satırlardaki ilk elemanı seçiniz.\n",
    "first_column = matrix9[:, 0]\n",
    "print(\"17. Tüm Satırların İlk Elemanı:\", first_column)\n",
    "\n",
    "\n",
    "# 18- Üretilen matrisin her bir elemanının karesini alınız.\n",
    "squared_matrix = np.square(matrix9)\n",
    "print(\"18. Elemanların Karesi:\\n\", squared_matrix)\n",
    "\n",
    "\n",
    "# 19- Üretilen matris elemanlarının hangisi pozitif çift sayıdır ? Aralığı (-50,+50) arasında yapınız.\n",
    "matrix19 = np.random.randint(-50, 51, size=(3, 5))\n",
    "positive_even_numbers = matrix19[(matrix19 > 0) & (matrix19 % 2 == 0)]\n",
    "print(\"19. Matris:\\n\", matrix19)\n",
    "print(\"19. Pozitif Çift Sayılar:\", positive_even_numbers)\n"
   ]
  }
 ],
 "metadata": {
  "kernelspec": {
   "display_name": "Python 3",
   "language": "python",
   "name": "python3"
  },
  "language_info": {
   "codemirror_mode": {
    "name": "ipython",
    "version": 3
   },
   "file_extension": ".py",
   "mimetype": "text/x-python",
   "name": "python",
   "nbconvert_exporter": "python",
   "pygments_lexer": "ipython3",
   "version": "3.11.0"
  },
  "orig_nbformat": 4,
  "vscode": {
   "interpreter": {
    "hash": "5026d2d6e7aaaaba093def813beadff083d8733e4a511af01735cbabd156995d"
   }
  }
 },
 "nbformat": 4,
 "nbformat_minor": 2
}
