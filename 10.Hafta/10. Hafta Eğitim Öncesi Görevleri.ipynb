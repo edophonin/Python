{
 "cells": [
  {
   "attachments": {},
   "cell_type": "markdown",
   "metadata": {},
   "source": [
    "# Problem 1"
   ]
  },
  {
   "cell_type": "code",
   "execution_count": 11,
   "metadata": {},
   "outputs": [
    {
     "name": "stdout",
     "output_type": "stream",
     "text": [
      "Requirement already satisfied: numpy in c:\\users\\edayd\\appdata\\local\\programs\\python\\python311\\lib\\site-packages (2.1.0)\n",
      "Matrisin boyutu (1, 5)\n"
     ]
    },
    {
     "name": "stderr",
     "output_type": "stream",
     "text": [
      "\n",
      "[notice] A new release of pip available: 22.3 -> 24.2\n",
      "[notice] To update, run: python.exe -m pip install --upgrade pip\n"
     ]
    },
    {
     "ename": "TypeError",
     "evalue": "'numpy.ndarray' object is not callable",
     "output_type": "error",
     "traceback": [
      "\u001b[1;31m---------------------------------------------------------------------------\u001b[0m",
      "\u001b[1;31mTypeError\u001b[0m                                 Traceback (most recent call last)",
      "Cell \u001b[1;32mIn[11], line 10\u001b[0m\n\u001b[0;32m      8\u001b[0m \u001b[38;5;28mprint\u001b[39m(\u001b[38;5;124m\"\u001b[39m\u001b[38;5;124mMatrisin boyutu\u001b[39m\u001b[38;5;124m\"\u001b[39m,matrix\u001b[38;5;241m.\u001b[39mshape)\n\u001b[0;32m      9\u001b[0m \u001b[38;5;66;03m# 4 - matris'i yeniden boyutlandırın\u001b[39;00m\n\u001b[1;32m---> 10\u001b[0m reshaped_matrix\u001b[38;5;241m=\u001b[39mnp\u001b[38;5;241m.\u001b[39mreshape(\u001b[43mmatrix\u001b[49m\u001b[43m(\u001b[49m\u001b[38;5;241;43m5\u001b[39;49m\u001b[43m,\u001b[49m\u001b[38;5;241;43m1\u001b[39;49m\u001b[43m)\u001b[49m)\n\u001b[0;32m     11\u001b[0m \u001b[38;5;28mprint\u001b[39m(\u001b[38;5;124m\"\u001b[39m\u001b[38;5;124mYeniden boyutlandırılmış Matris\u001b[39m\u001b[38;5;124m\"\u001b[39m,reshaped_matrix)\n\u001b[0;32m     12\u001b[0m \u001b[38;5;66;03m# 5 - matris'in boyut sayısını öğrenin\u001b[39;00m\n",
      "\u001b[1;31mTypeError\u001b[0m: 'numpy.ndarray' object is not callable"
     ]
    }
   ],
   "source": [
    "!pip install numpy\n",
    "\n",
    "# 1 - numpy kütüphanesini import edin\n",
    "import numpy as np\n",
    "# 2 - 0 ile 10 arasında 5 sayıdan oluşan matris üretin\n",
    "matrix=np.random.randint(0,11, size=(1,5))\n",
    "# 3 - matris'in boyutunu öğrenin\n",
    "print(\"Matrisin boyutu\",matrix.shape)\n",
    "# 4 - matris'i yeniden boyutlandırın\n",
    "reshaped_matrix=np.reshape(matrix(5,1))\n",
    "print(\"Yeniden boyutlandırılmış Matris\",reshaped_matrix)\n",
    "# 5 - matris'in boyut sayısını öğrenin\n",
    "print(\"Matrisin Boyut Sayısı:\", reshaped_matrix.ndim)"
   ]
  },
  {
   "attachments": {},
   "cell_type": "markdown",
   "metadata": {},
   "source": [
    "# Problem 2"
   ]
  },
  {
   "cell_type": "code",
   "execution_count": 9,
   "metadata": {},
   "outputs": [
    {
     "name": "stdout",
     "output_type": "stream",
     "text": [
      "Requirement already satisfied: numpy in c:\\users\\edayd\\appdata\\local\\programs\\python\\python311\\lib\\site-packages (2.1.0)\n",
      "Oluşturulan Matris:\n",
      " [[5 1 3]\n",
      " [5 7 5]\n",
      " [3 3 3]]\n",
      "Parça 1:\n",
      " [[5 1]\n",
      " [5 7]\n",
      " [3 3]]\n",
      "Parça 2:\n",
      " [[3]\n",
      " [5]\n",
      " [3]]\n",
      "Birleştirilmiş Matris:\n",
      " [[5 1 3]\n",
      " [5 7 5]\n",
      " [3 3 3]]\n"
     ]
    },
    {
     "name": "stderr",
     "output_type": "stream",
     "text": [
      "\n",
      "[notice] A new release of pip available: 22.3 -> 24.2\n",
      "[notice] To update, run: python.exe -m pip install --upgrade pip\n"
     ]
    }
   ],
   "source": [
    "!pip install numpy\n",
    "\n",
    "\n",
    "# 1 - 0 ile 10 arasında bulunan tek sayılardan oluşan matris üretin\n",
    "import numpy as np\n",
    "tek_sayilar = np.arange(1, 11, 2)  \n",
    "matris = np.random.choice(tek_sayilar, size=(3, 3))\n",
    "print(\"Oluşturulan Matris:\\n\", matris)\n",
    "\n",
    "# 2 - Oluşturduğunuz matrisi parçalayın\n",
    "parca1, parca2 = np.hsplit(matris, [2])\n",
    "print(\"Parça 1:\\n\", parca1)\n",
    "print(\"Parça 2:\\n\", parca2)\n",
    "\n",
    "# 3 - Parçalanmış matrisleri birleştirin\n",
    "birlesmis_matris = np.hstack((parca1, parca2))\n",
    "print(\"Birleştirilmiş Matris:\\n\", birlesmis_matris)\n"
   ]
  },
  {
   "attachments": {},
   "cell_type": "markdown",
   "metadata": {},
   "source": [
    "# Problem 3"
   ]
  },
  {
   "cell_type": "code",
   "execution_count": 10,
   "metadata": {},
   "outputs": [
    {
     "name": "stdout",
     "output_type": "stream",
     "text": [
      "Requirement already satisfied: numpy in c:\\users\\edayd\\appdata\\local\\programs\\python\\python311\\lib\\site-packages (2.1.0)\n",
      "Oluşturulan Matris:\n",
      " [[59 39 47 95 83]\n",
      " [23 69 15 85 69]]\n",
      "Matrisin Boyutları (Shape): (2, 5)\n",
      "Matrisin Boyut Sayısı (ndim): 2\n",
      "Matrisin Toplam Eleman Sayısı (Size): 10\n",
      "Matrisin Elemanlarının Veri Tipi (dtype): int64\n",
      "Matrisin Elemanlarının Toplamı: 584\n"
     ]
    },
    {
     "name": "stderr",
     "output_type": "stream",
     "text": [
      "\n",
      "[notice] A new release of pip available: 22.3 -> 24.2\n",
      "[notice] To update, run: python.exe -m pip install --upgrade pip\n"
     ]
    }
   ],
   "source": [
    "!pip install numpy\n",
    "\n",
    "# 1 - 5 ile 100 arasında ikişer ikişer atlayarak rastgele 10 sayıdan oluşan matris üretin\n",
    "import numpy as np\n",
    "sayi_araligi = np.arange(5, 101, 2)\n",
    "matris = np.random.choice(sayi_araligi, size=(2, 5))  \n",
    "print(\"Oluşturulan Matris:\\n\", matris)\n",
    "\n",
    "# 2 - matris'in özelliklerini inceleyin\n",
    "print(\"Matrisin Boyutları (Shape):\", matris.shape)\n",
    "print(\"Matrisin Boyut Sayısı (ndim):\", matris.ndim)\n",
    "print(\"Matrisin Toplam Eleman Sayısı (Size):\", matris.size)\n",
    "print(\"Matrisin Elemanlarının Veri Tipi (dtype):\", matris.dtype)\n",
    "print(\"Matrisin Elemanlarının Toplamı:\", matris.sum())\n"
   ]
  }
 ],
 "metadata": {
  "kernelspec": {
   "display_name": "Python 3",
   "language": "python",
   "name": "python3"
  },
  "language_info": {
   "codemirror_mode": {
    "name": "ipython",
    "version": 3
   },
   "file_extension": ".py",
   "mimetype": "text/x-python",
   "name": "python",
   "nbconvert_exporter": "python",
   "pygments_lexer": "ipython3",
   "version": "3.11.0"
  },
  "orig_nbformat": 4,
  "vscode": {
   "interpreter": {
    "hash": "5026d2d6e7aaaaba093def813beadff083d8733e4a511af01735cbabd156995d"
   }
  }
 },
 "nbformat": 4,
 "nbformat_minor": 2
}
