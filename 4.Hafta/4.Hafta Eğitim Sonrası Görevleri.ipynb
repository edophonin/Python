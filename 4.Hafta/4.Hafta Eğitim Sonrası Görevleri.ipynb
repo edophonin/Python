{
 "cells": [
  {
   "cell_type": "markdown",
   "metadata": {},
   "source": [
    "# Problem 1\n",
    "`ogrenciler` adında bir sözlük oluşturunuz. Kullanıcıdan döngü yardımıyla 3 öğrenci için veri girmesini isteyerek öğrencilerin sırasıyla okul numarası, isim, soy isim, telefon numarası ve doğum tarihi bilgilerini alınız. Aldığınız öğrenci bilgilerini yine aynı döngü yardımıyla `ogrenciler` adındaki sözlükte saklayınız. Daha sonra öğrenci bilgilerinin bulunduğu sözlük yapısını ekrana bastırınız.\n",
    "\n"
   ]
  },
  {
   "cell_type": "code",
   "execution_count": 1,
   "metadata": {},
   "outputs": [
    {
     "name": "stdout",
     "output_type": "stream",
     "text": [
      "\n",
      "Öğrenci Bilgileri:\n",
      "Okul Numarası: \n",
      "İsim: \n",
      "Soy İsim: \n",
      "Telefon Numarası: \n",
      "Doğum Tarihi: \n",
      "\n"
     ]
    }
   ],
   "source": [
    "# 1.Problemin Çözümünü Buraya Yazınız\n",
    "ogrenciler = {}\n",
    "for i in range(3):\n",
    "    \n",
    "    okul_no = input(\"Öğrencinin okul numarası: \")\n",
    "    isim = input(\"Öğrencinin ismi: \")\n",
    "    soy_isim = input(\"Öğrencinin soy ismi: \")\n",
    "    telefon_no = input(\"Öğrencinin telefon numarası: \")\n",
    "    dogum_tarihi = input(\"Öğrencinin doğum tarihi (gg/aa/yyyy): \")\n",
    "\n",
    "    \n",
    "    ogrenci_bilgileri = {\n",
    "        \"İsim\": isim,\n",
    "        \"Soy İsim\": soy_isim,\n",
    "        \"Telefon Numarası\": telefon_no,\n",
    "        \"Doğum Tarihi\": dogum_tarihi\n",
    "    }\n",
    "\n",
    "    ogrenciler[okul_no] = ogrenci_bilgileri\n",
    "\n",
    "\n",
    "print(\"\\nÖğrenci Bilgileri:\")\n",
    "for okul_no, bilgiler in ogrenciler.items():\n",
    "    print(f\"Okul Numarası: {okul_no}\")\n",
    "    for key, value in bilgiler.items():\n",
    "        print(f\"{key}: {value}\")\n",
    "    print()"
   ]
  },
  {
   "cell_type": "markdown",
   "metadata": {},
   "source": [
    "# Problem 2\n",
    "\n",
    "### a - Biraz ısınarak başlayalım!\n",
    "\n",
    "```\n",
    "numbers = [5,10,10,15,15,15,20,20,20,20]\n",
    "```\n",
    "\n",
    "Yukarıda `numbers` adında 10 elemanlı bir liste verilmiştir. Bu listenin her elemanını kontrol eden ve tekrar eden elemanları bir kez olacak şekilde başka bir listeye kopyalayan bir program yazınız. Son olarak oluşturduğunuz listeyi ekrana bastırınız.\n",
    "\n",
    "\n",
    "\n",
    "\n",
    "```\n",
    ">Output\n",
    "[5, 10, 15, 20]\n",
    "```\n"
   ]
  },
  {
   "cell_type": "code",
   "execution_count": null,
   "metadata": {},
   "outputs": [],
   "source": [
    "# 2.Problemin a Şıkkının Çözümünü Buraya Yazınız\n",
    "numbers = [5, 10, 10, 15, 15, 15, 20, 20, 20, 20]\n",
    "unique_numbers = []\n",
    "\n",
    "for number in numbers:\n",
    "    \n",
    "\n",
    "    if number not in unique_numbers:\n",
    "        unique_numbers.append(number)\n",
    "\n",
    "\n",
    "print(unique_numbers)"
   ]
  },
  {
   "cell_type": "markdown",
   "metadata": {},
   "source": [
    "### 🌶️ b) Hadi işi biraz daha zorlaştıralım! \n",
    "\n",
    "\n",
    "Şimdiyse senden `numbers` isimli listedeki tekrar eden elemanları `repeatNumbers` adındaki listeye; tekrar etmeyen elemanları `uniqueNumbers`adındaki listeye kopyalayan yazmanı ve listeleri ekrana bastırmanı bekliyoruz\n",
    "\n",
    "```\n",
    ">Output\n",
    "Tekrar Eden Elemanlar: [10, 10, 15, 15, 15, 20, 20, 20, 20]\n",
    "Tekrar Etmeyen Elemanlar: [5]\n",
    "```"
   ]
  },
  {
   "cell_type": "code",
   "execution_count": null,
   "metadata": {},
   "outputs": [],
   "source": [
    "# 2.Problemin b Şıkkının Çözümünü Buraya Yazınız\n",
    "repeatNumbers = []\n",
    "uniqueNumbers = []\n",
    "\n",
    "counts = {}\n",
    "\n",
    "for number in numbers:\n",
    "    if number in counts:\n",
    "        counts[number] += 1\n",
    "    else:\n",
    "        counts[number] = 1\n",
    "\n",
    "for number in numbers:\n",
    "    if counts[number] > 1:\n",
    "        repeatNumbers.append(number)\n",
    "    elif counts[number] == 1:\n",
    "        if number not in uniqueNumbers:\n",
    "            uniqueNumbers.append(number)\n",
    "\n",
    "print(\"Tekrar Eden Elemanlar:\", repeatNumbers)\n",
    "print(\"Tekrar Etmeyen Elemanlar:\", uniqueNumbers)"
   ]
  },
  {
   "cell_type": "markdown",
   "metadata": {},
   "source": [
    "# Problem 3\n",
    "sn1 = {1,2,3,4,5}\n",
    "\n",
    "sn2 = {4,5,6,7,8}\n",
    "\n",
    " Verilen 2 adet küme için kesişimlerini, farklarını ve birleşimlerini bulunuz. "
   ]
  },
  {
   "cell_type": "code",
   "execution_count": null,
   "metadata": {},
   "outputs": [],
   "source": [
    "# 3.Problemin Çözümünü Buraya Yazınız\n",
    "sn1 = {1, 2, 3, 4, 5}\n",
    "sn2 = {4, 5, 6, 7, 8}\n",
    "\n",
    "\n",
    "intersection = sn1.intersection(sn2)\n",
    "\n",
    "\n",
    "difference_sn1_sn2 = sn1.difference(sn2) \n",
    "difference_sn2_sn1 = sn2.difference(sn1)  \n",
    "\n",
    "\n",
    "union = sn1.union(sn2)\n",
    "\n",
    "\n",
    "print(\"Kesişim:\", intersection)\n",
    "print(\"sn1 - sn2 farkı:\", difference_sn1_sn2)\n",
    "print(\"sn2 - sn1 farkı:\", difference_sn2_sn1)\n",
    "print(\"Birleşim:\", union)"
   ]
  },
  {
   "cell_type": "markdown",
   "metadata": {},
   "source": [
    "# Problem 4\n",
    "\n",
    "Buradaki işlemlerimizin tamamı stringler içindir. Aşağıda verilecek olan metodlar için kendinizin örnek yaratması gerekmektedir. \n",
    "\n",
    "Örneğin `upper` için `string` değişkeni oluştururken` k = \"BAC\"` şeklinde oluşturmayınız. Bunun yerine k değişkenini `k = \"bac`\" şeklinde oluşturmanız `upper` metodundaki değişimi görebilmeniz için daha iyi olacaktır.\n",
    "\n",
    "Bütün metodlardaki değişimin gözle görülür şekilde değişimi beklenmektedir.\n",
    "\n",
    "\n",
    "1- capitalize(), lower(), upper(), swapcase(), title(), replace()\n",
    "\n",
    "2- endswith(), startswith(), find(), index(), count()\n",
    "\n",
    "3- split(), strip(), join(), islower(), isalpha(), isdigit()\n",
    "\n",
    "\n",
    "Yukarıdaki `string` metodlarındaki değişimleri görebildiğimiz bir program yazınız.\n"
   ]
  },
  {
   "cell_type": "code",
   "execution_count": null,
   "metadata": {},
   "outputs": [],
   "source": [
    "# 4.Problemin Çözümünü Buraya Yazınız\n",
    "k1 = \"hello world\"\n",
    "print(\"Original:\", k1)\n",
    "print(\"capitalize():\", k1.capitalize())\n",
    "print(\"lower():\", k1.lower())\n",
    "print(\"upper():\", k1.upper())\n",
    "print(\"swapcase():\", k1.swapcase())\n",
    "print(\"title():\", k1.title())\n",
    "print(\"replace():\", k1.replace(\"world\", \"there\"))\n",
    "\n",
    "print(\"\\n\" + \"=\"*40 + \"\\n\")\n",
    "\n",
    "\n",
    "k2 = \"hello world\"\n",
    "print(\"Original:\", k2)\n",
    "print(\"endswith('world'):\", k2.endswith(\"world\"))\n",
    "print(\"startswith('hello'):\", k2.startswith(\"hello\"))\n",
    "print(\"find('o'):\", k2.find(\"o\"))\n",
    "print(\"index('o'):\", k2.index(\"o\"))\n",
    "print(\"count('l'):\", k2.count(\"l\"))\n",
    "\n",
    "print(\"\\n\" + \"=\"*40 + \"\\n\")\n",
    "\n",
    "\n",
    "k3 = \" hello world \"\n",
    "print(\"Original:\", repr(k3))  \n",
    "print(\"split():\", k3.split())\n",
    "print(\"strip():\", repr(k3.strip()))\n",
    "print(\"join(['hello', 'world']):\", \" \".join(['hello', 'world']))\n",
    "k4 = \"hello\"\n",
    "print(\"islower():\", k4.islower())\n",
    "print(\"isalpha():\", k4.isalpha())\n",
    "k5 = \"12345\"\n",
    "print(\"isdigit():\", k5.isdigit())"
   ]
  }
 ],
 "metadata": {
  "kernelspec": {
   "display_name": "Python 3.10.5 64-bit",
   "language": "python",
   "name": "python3"
  },
  "language_info": {
   "codemirror_mode": {
    "name": "ipython",
    "version": 3
   },
   "file_extension": ".py",
   "mimetype": "text/x-python",
   "name": "python",
   "nbconvert_exporter": "python",
   "pygments_lexer": "ipython3",
   "version": "3.11.0"
  },
  "orig_nbformat": 4,
  "vscode": {
   "interpreter": {
    "hash": "5026d2d6e7aaaaba093def813beadff083d8733e4a511af01735cbabd156995d"
   }
  }
 },
 "nbformat": 4,
 "nbformat_minor": 2
}
